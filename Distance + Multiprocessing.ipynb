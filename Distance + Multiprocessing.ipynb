{
 "cells": [
  {
   "cell_type": "code",
   "execution_count": 3,
   "metadata": {},
   "outputs": [],
   "source": [
    "import pandas as pd\n",
    "import numpy as np\n",
    "import networkx as nx\n",
    "import geopandas as gpd\n",
    "import geopy\n",
    "import shapely\n",
    "from shapely import wkt\n",
    "from tqdm import tqdm\n",
    "from shapely.geometry import LineString\n",
    "from shapely.ops import cascaded_union\n",
    "from math import radians, cos, sin, asin, sqrt"
   ]
  },
  {
   "cell_type": "code",
   "execution_count": 4,
   "metadata": {},
   "outputs": [],
   "source": [
    "data_filename = '2022_08_30_РАБОТА_С_ЖД_v21_с_исключениями_отчетная_сводная.xlsx'"
   ]
  },
  {
   "cell_type": "code",
   "execution_count": 5,
   "metadata": {},
   "outputs": [],
   "source": [
    "def wkt_loads(x):\n",
    "    try:\n",
    "        return wkt.loads(x)\n",
    "    except Exception:\n",
    "        return None\n",
    "\n",
    "\n",
    "def haversine(lon1, lat1, lon2, lat2):\n",
    "    \"\"\"\n",
    "    Calculate the great circle distance between two points \n",
    "    on the earth (specified in decimal degrees)\n",
    "    \"\"\"\n",
    "    # convert decimal degrees to radians \n",
    "    lon1, lat1, lon2, lat2 = map(radians, [lon1, lat1, lon2, lat2])\n",
    "    # haversine formula \n",
    "    dlon = lon2 - lon1 \n",
    "    dlat = lat2 - lat1 \n",
    "    a = sin(dlat/2)**2 + cos(lat1) * cos(lat2) * sin(dlon/2)**2\n",
    "    c = 2 * asin(sqrt(a)) \n",
    "    # Radius of earth in kilometers is 6371\n",
    "    km = 6371* c\n",
    "    return km"
   ]
  },
  {
   "cell_type": "markdown",
   "metadata": {},
   "source": [
    "# Graph initialization"
   ]
  },
  {
   "cell_type": "code",
   "execution_count": 6,
   "metadata": {},
   "outputs": [],
   "source": [
    "nodes = pd.read_excel(data_filename, sheet_name = 'новые пункты')\n",
    "# nodes = nodes.dropna(subset = ['Идентификатор вершины (глобальный)'])\n",
    "\n",
    "edges = pd.read_excel(data_filename, sheet_name = 'новые участки')\n",
    "edges['source_coords'] = edges['source_coords'].astype('str').apply(wkt_loads)\n",
    "edges['target_coords'] = edges['target_coords'].astype('str').apply(wkt_loads)\n",
    "edges = edges[edges['исключить'] != 1]"
   ]
  },
  {
   "cell_type": "code",
   "execution_count": 7,
   "metadata": {},
   "outputs": [
    {
     "name": "stdout",
     "output_type": "stream",
     "text": [
      "Vertices: 2463\n",
      "Edges: 2893\n"
     ]
    }
   ],
   "source": [
    "g = nx.Graph()\n",
    "\n",
    "# adding nodes\n",
    "\n",
    "for node in nodes.iloc[:,0]:\n",
    "    if node not in list(g.nodes):\n",
    "        g.add_node(node)\n",
    "\n",
    "# adding edges (for loop to add orthodromies)\n",
    "\n",
    "for idx, edge in edges.iterrows():\n",
    "    g.add_edge(edge['Идентификатор вершины начала участка (глобальный)'], \n",
    "               edge['Идентификатор вершины конца участка (глобальный)'], \n",
    "               length = haversine(edge.source_coords.x, edge.source_coords.y,\n",
    "                        edge.target_coords.x, edge.target_coords.y))\n",
    "\n",
    "print(f\"Vertices: {g.number_of_nodes()}\\nEdges: {g.number_of_edges()}\")"
   ]
  },
  {
   "cell_type": "markdown",
   "metadata": {},
   "source": [
    "### Station pairs"
   ]
  },
  {
   "cell_type": "code",
   "execution_count": 62,
   "metadata": {},
   "outputs": [],
   "source": [
    "y2021 = pd.read_excel(\"distances_calc.xlsb\", sheet_name = '2021')\n",
    "y2022 = pd.read_excel(\"distances_calc.xlsb\", sheet_name = '2022')\n",
    "\n",
    "station_ids = pd.read_excel(\"distances_calc.xlsb\", sheet_name = 'ПРИВЯЗКИ')"
   ]
  },
  {
   "cell_type": "code",
   "execution_count": 63,
   "metadata": {},
   "outputs": [
    {
     "data": {
      "text/html": [
       "<div>\n",
       "<style scoped>\n",
       "    .dataframe tbody tr th:only-of-type {\n",
       "        vertical-align: middle;\n",
       "    }\n",
       "\n",
       "    .dataframe tbody tr th {\n",
       "        vertical-align: top;\n",
       "    }\n",
       "\n",
       "    .dataframe thead th {\n",
       "        text-align: right;\n",
       "    }\n",
       "</style>\n",
       "<table border=\"1\" class=\"dataframe\">\n",
       "  <thead>\n",
       "    <tr style=\"text-align: right;\">\n",
       "      <th></th>\n",
       "      <th>source_name</th>\n",
       "      <th>target_name</th>\n",
       "      <th>id_source</th>\n",
       "      <th>region_source</th>\n",
       "      <th>id_target</th>\n",
       "      <th>region_target</th>\n",
       "    </tr>\n",
       "  </thead>\n",
       "  <tbody>\n",
       "    <tr>\n",
       "      <th>0</th>\n",
       "      <td>КУЛУНДА-ЭК-Р</td>\n",
       "      <td>ВЛАДИВОСТ-ЭК</td>\n",
       "      <td>48</td>\n",
       "      <td>Алтайский край</td>\n",
       "      <td>6</td>\n",
       "      <td>Приморский край</td>\n",
       "    </tr>\n",
       "    <tr>\n",
       "      <th>1</th>\n",
       "      <td>ЗАБАЙК/КИТАЙ</td>\n",
       "      <td>СУЗЕМКА-ЭКСП</td>\n",
       "      <td>24</td>\n",
       "      <td>Забайкальский край</td>\n",
       "      <td>6690</td>\n",
       "      <td>Брянская область</td>\n",
       "    </tr>\n",
       "    <tr>\n",
       "      <th>2</th>\n",
       "      <td>ИВАНГР-НАР-Э</td>\n",
       "      <td>НАУШКИ МНР 2</td>\n",
       "      <td>150</td>\n",
       "      <td>Ленинградская область</td>\n",
       "      <td>27</td>\n",
       "      <td>Республика Бурятия</td>\n",
       "    </tr>\n",
       "    <tr>\n",
       "      <th>3</th>\n",
       "      <td>ГРОДЕК/КИТАЙ</td>\n",
       "      <td>СБОРНАЯ-УГ.</td>\n",
       "      <td>2363</td>\n",
       "      <td>Приморский край</td>\n",
       "      <td>6598</td>\n",
       "      <td>Тульская область</td>\n",
       "    </tr>\n",
       "    <tr>\n",
       "      <th>4</th>\n",
       "      <td>ПОСИНЬ-ЭКС</td>\n",
       "      <td>КАРТАЛЫ 1-ЭК</td>\n",
       "      <td>155</td>\n",
       "      <td>Псковская область</td>\n",
       "      <td>6072</td>\n",
       "      <td>Челябинская область</td>\n",
       "    </tr>\n",
       "  </tbody>\n",
       "</table>\n",
       "</div>"
      ],
      "text/plain": [
       "    source_name   target_name id_source          region_source id_target  \\\n",
       "0  КУЛУНДА-ЭК-Р  ВЛАДИВОСТ-ЭК        48         Алтайский край         6   \n",
       "1  ЗАБАЙК/КИТАЙ  СУЗЕМКА-ЭКСП        24     Забайкальский край      6690   \n",
       "2  ИВАНГР-НАР-Э  НАУШКИ МНР 2       150  Ленинградская область        27   \n",
       "3  ГРОДЕК/КИТАЙ   СБОРНАЯ-УГ.      2363        Приморский край      6598   \n",
       "4    ПОСИНЬ-ЭКС  КАРТАЛЫ 1-ЭК       155      Псковская область      6072   \n",
       "\n",
       "         region_target  \n",
       "0      Приморский край  \n",
       "1     Брянская область  \n",
       "2   Республика Бурятия  \n",
       "3     Тульская область  \n",
       "4  Челябинская область  "
      ]
     },
     "execution_count": 63,
     "metadata": {},
     "output_type": "execute_result"
    }
   ],
   "source": [
    "y2021 = pd.merge(y2021, station_ids[['station_name', 'station_id','region_name']],\n",
    "        left_on = 'source_name', right_on = 'station_name', how = 'left').drop('station_name', axis=1)\n",
    "y2021 = pd.merge(y2021, station_ids[['station_name', 'station_id', 'region_name']],\n",
    "         left_on = 'target_name', right_on = 'station_name', how = 'left').drop('station_name', axis=1)\n",
    "\n",
    "y2021 = y2021.rename(columns = {'station_id_x': 'id_source',\n",
    "                                'station_id_y': 'id_target',\n",
    "                                'region_name_x' : 'region_source',\n",
    "                                'region_name_y': 'region_target'})\n",
    "y2021.head()"
   ]
  },
  {
   "cell_type": "code",
   "execution_count": 64,
   "metadata": {},
   "outputs": [
    {
     "data": {
      "text/html": [
       "<div>\n",
       "<style scoped>\n",
       "    .dataframe tbody tr th:only-of-type {\n",
       "        vertical-align: middle;\n",
       "    }\n",
       "\n",
       "    .dataframe tbody tr th {\n",
       "        vertical-align: top;\n",
       "    }\n",
       "\n",
       "    .dataframe thead th {\n",
       "        text-align: right;\n",
       "    }\n",
       "</style>\n",
       "<table border=\"1\" class=\"dataframe\">\n",
       "  <thead>\n",
       "    <tr style=\"text-align: right;\">\n",
       "      <th></th>\n",
       "      <th>source_name</th>\n",
       "      <th>target_name</th>\n",
       "      <th>id_source</th>\n",
       "      <th>region_source</th>\n",
       "      <th>id_target</th>\n",
       "      <th>region_target</th>\n",
       "    </tr>\n",
       "  </thead>\n",
       "  <tbody>\n",
       "    <tr>\n",
       "      <th>0</th>\n",
       "      <td>КУЛУНДА-ЭК-Р</td>\n",
       "      <td>ВЛАДИВОСТ-ЭК</td>\n",
       "      <td>48</td>\n",
       "      <td>Алтайский край</td>\n",
       "      <td>6</td>\n",
       "      <td>Приморский край</td>\n",
       "    </tr>\n",
       "    <tr>\n",
       "      <th>1</th>\n",
       "      <td>КУЛУНДА-ЭК-Р</td>\n",
       "      <td>КЛЕЩИХА</td>\n",
       "      <td>48</td>\n",
       "      <td>Алтайский край</td>\n",
       "      <td>6020</td>\n",
       "      <td>Новосибирская область</td>\n",
       "    </tr>\n",
       "    <tr>\n",
       "      <th>2</th>\n",
       "      <td>ПРИДАЧА</td>\n",
       "      <td>БЕЛОГОРСК</td>\n",
       "      <td>6523</td>\n",
       "      <td>Воронежская область</td>\n",
       "      <td>17</td>\n",
       "      <td>Амурская область</td>\n",
       "    </tr>\n",
       "    <tr>\n",
       "      <th>3</th>\n",
       "      <td>ПРИДАЧА</td>\n",
       "      <td>ЧИТА 1</td>\n",
       "      <td>6523</td>\n",
       "      <td>Воронежская область</td>\n",
       "      <td>25</td>\n",
       "      <td>Забайкальский край</td>\n",
       "    </tr>\n",
       "    <tr>\n",
       "      <th>4</th>\n",
       "      <td>С-ПЕТЕРБ-ФИН</td>\n",
       "      <td>ВЛАДИВОСТ-ПР</td>\n",
       "      <td>6855</td>\n",
       "      <td>г. Санкт-Петербург</td>\n",
       "      <td>6</td>\n",
       "      <td>Приморский край</td>\n",
       "    </tr>\n",
       "  </tbody>\n",
       "</table>\n",
       "</div>"
      ],
      "text/plain": [
       "    source_name   target_name id_source        region_source id_target  \\\n",
       "0  КУЛУНДА-ЭК-Р  ВЛАДИВОСТ-ЭК        48       Алтайский край         6   \n",
       "1  КУЛУНДА-ЭК-Р       КЛЕЩИХА        48       Алтайский край      6020   \n",
       "2       ПРИДАЧА     БЕЛОГОРСК      6523  Воронежская область        17   \n",
       "3       ПРИДАЧА        ЧИТА 1      6523  Воронежская область        25   \n",
       "4  С-ПЕТЕРБ-ФИН  ВЛАДИВОСТ-ПР      6855   г. Санкт-Петербург         6   \n",
       "\n",
       "           region_target  \n",
       "0        Приморский край  \n",
       "1  Новосибирская область  \n",
       "2       Амурская область  \n",
       "3     Забайкальский край  \n",
       "4        Приморский край  "
      ]
     },
     "execution_count": 64,
     "metadata": {},
     "output_type": "execute_result"
    }
   ],
   "source": [
    "y2022 = pd.merge(y2022, station_ids[['station_name', 'station_id', 'region_name']],\n",
    "        left_on = 'source_name', right_on = 'station_name', how = 'left').drop('station_name', axis=1)\n",
    "y2022 = pd.merge(y2022, station_ids[['station_name', 'station_id', 'region_name']],\n",
    "         left_on = 'target_name', right_on = 'station_name', how = 'left').drop('station_name', axis=1)\n",
    "\n",
    "y2022 = y2022.rename(columns = {'station_id_x': 'id_source',\n",
    "                                'station_id_y': 'id_target',\n",
    "                                'region_name_x' : 'region_source',\n",
    "                                'region_name_y': 'region_target'})\n",
    "y2022.head()"
   ]
  },
  {
   "cell_type": "code",
   "execution_count": 55,
   "metadata": {},
   "outputs": [],
   "source": [
    "y2021 = y2021.dropna(subset = ['id_source', 'id_target'])\n",
    "y2022 = y2022.dropna(subset = ['id_source', 'id_target'])"
   ]
  },
  {
   "cell_type": "markdown",
   "metadata": {},
   "source": [
    "# Distance Calculation"
   ]
  },
  {
   "cell_type": "code",
   "execution_count": 56,
   "metadata": {},
   "outputs": [],
   "source": [
    "def rail_distance(Graph, corr_df):\n",
    "    \n",
    "    \"\"\"\n",
    "    corr_df: таблица с набором корреспонденций, для которых реализуется расчет дистанции\n",
    "    \n",
    "    \"\"\"\n",
    "    \n",
    "    # resulting cols:\n",
    "    path_distances_list = []\n",
    "    \n",
    "    for idx, row in corr_df.iterrows(): \n",
    "        \n",
    "        path_distance = []\n",
    "        \n",
    "        from_node = row.id_source\n",
    "        to_node = row.id_target\n",
    "        \n",
    "\n",
    "        # calculates a path distance:\n",
    "        dist_path = nx.dijkstra_path_length(Graph, from_node, to_node, weight = 'length')\n",
    "            \n",
    "        # calculates _straight_ distance (departure and arrival stations only):\n",
    "#             dist_straight = haversine(row.geom_source.x, row.geom_source.y,\n",
    "#                         row.geom_target.x, row.geom_target.y)\n",
    "                    \n",
    "            \n",
    "        path_distances_list.append(dist_path)\n",
    "            \n",
    "    return path_distances_list"
   ]
  },
  {
   "cell_type": "markdown",
   "metadata": {},
   "source": [
    "# Multiprocessing"
   ]
  },
  {
   "cell_type": "code",
   "execution_count": 57,
   "metadata": {},
   "outputs": [
    {
     "data": {
      "text/plain": [
       "8"
      ]
     },
     "execution_count": 57,
     "metadata": {},
     "output_type": "execute_result"
    }
   ],
   "source": [
    "import multiprocessing as mp\n",
    "from functools import partial\n",
    "# import istarmap\n",
    "from tqdm import tqdm\n",
    "mp.cpu_count() "
   ]
  },
  {
   "cell_type": "code",
   "execution_count": 58,
   "metadata": {},
   "outputs": [
    {
     "data": {
      "text/plain": [
       "[(48, 6), (24, 6690), (150, 27), (2363, 6598), (155, 6072)]"
      ]
     },
     "execution_count": 58,
     "metadata": {},
     "output_type": "execute_result"
    }
   ],
   "source": [
    "# list of tuples\n",
    "\n",
    "id_pairs2021 = list(zip(y2021.id_source, y2021.id_target))\n",
    "id_pairs2022 = list(zip(y2022.id_source, y2022.id_target))\n",
    "id_pairs2021[0:5]"
   ]
  },
  {
   "cell_type": "code",
   "execution_count": 59,
   "metadata": {},
   "outputs": [],
   "source": [
    "num_workers = mp.cpu_count()  \n",
    "\n",
    "pool = mp.Pool(num_workers)\n",
    "\n",
    "with pool as p:\n",
    "    dijkstra_length = partial(nx.dijkstra_path_length, g, weight = 'length')\n",
    "    res2021 = p.starmap(dijkstra_length, id_pairs2021)"
   ]
  },
  {
   "cell_type": "code",
   "execution_count": 60,
   "metadata": {},
   "outputs": [],
   "source": [
    "pool = mp.Pool(num_workers)\n",
    "\n",
    "with pool as p:\n",
    "    dijkstra_length = partial(nx.dijkstra_path_length, g, weight = 'length')\n",
    "    res2022 = p.starmap(dijkstra_length, id_pairs2022)"
   ]
  },
  {
   "cell_type": "code",
   "execution_count": 61,
   "metadata": {},
   "outputs": [],
   "source": [
    "y2021['distance'] = res2021\n",
    "y2022['distance'] = res2022\n",
    "y2021.to_excel('distances_2021.xlsx')\n",
    "y2022.to_excel('distances_2022.xlsx')"
   ]
  }
 ],
 "metadata": {
  "kernelspec": {
   "display_name": "Python 3",
   "language": "python",
   "name": "python3"
  },
  "language_info": {
   "codemirror_mode": {
    "name": "ipython",
    "version": 3
   },
   "file_extension": ".py",
   "mimetype": "text/x-python",
   "name": "python",
   "nbconvert_exporter": "python",
   "pygments_lexer": "ipython3",
   "version": "3.7.4"
  }
 },
 "nbformat": 4,
 "nbformat_minor": 2
}
